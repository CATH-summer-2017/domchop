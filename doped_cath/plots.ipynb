{
 "cells": [
  {
   "cell_type": "code",
   "execution_count": 3,
   "metadata": {},
   "outputs": [],
   "source": [
    "from mpld3 import *\n",
    "\n",
    "\n",
    "class ClickInfo(plugins.PluginBase):\n",
    "    \"\"\"Plugin for getting info on click\"\"\"\n",
    "    \n",
    "    JAVASCRIPT = \"\"\"\n",
    "    mpld3.register_plugin(\"clickinfo\", ClickInfo);\n",
    "    ClickInfo.prototype = Object.create(mpld3.Plugin.prototype);\n",
    "    ClickInfo.prototype.constructor = ClickInfo;\n",
    "    ClickInfo.prototype.requiredProps = [\"id\",\"labels\",\"rules\"];\n",
    "    function ClickInfo(fig, props){\n",
    "        mpld3.Plugin.call(this, fig, props);\n",
    "    };\n",
    "    \n",
    "    ClickInfo.prototype.draw = function(){\n",
    "        var obj = mpld3.get_element(this.props.id);\n",
    "        var labels = (this.props.labels);\n",
    "        var rules = (this.props.rules);\n",
    "        \n",
    "        obj.elements().on(\"mousedown\",\n",
    "                          function(d, i){\n",
    "                          txt=labels[i];\n",
    "                          window.prompt(\"You clicked Point \"+ i + \", Ctrl+C to copy to clipboard, Click 'OK' or 'Cancel' to open the CA in a new pop-up.   Rulestring:\", txt);\n",
    "                            \n",
    "labels=[];\n",
    "                            rule=rules[i];\n",
    "\n",
    "                            var newviewer=document.createElement('div');\n",
    "                            newviewer.setAttribute('class','viewer');\n",
    "                            newviewer.setAttribute('id','viewer');\n",
    "                            newviewer.appendChild(sp1);\n",
    "                            newviewer.appendChild(cv1);\n",
    "\n",
    "                            document.body.appendChild(newviewer);\n",
    "//                            parentDiv.parentNode.appendChild(newviewer);\n",
    "\n",
    "                            document.getElementById('viewer').contentWindow.location.reload();\n",
    "\n",
    "//                            viewer.innerHTML=s;\n",
    "alert(txt);\n",
    "                          //document.getElementById(\"viewer\").innerHTML = rule;\n",
    "\n",
    "                          \n",
    "                          });\n",
    "    }\n",
    "    \n",
    "    \n",
    "    \"\"\"\n",
    "    \n",
    "#     obj.elements().on(\"mousedown\",\n",
    "#                           function(d, i){alert(\"clicked on points[\" + labels[i] + \"]\");});\n",
    "    def __init__(self, points,labels=None,rules=None):\n",
    "        self.dict_ = {\"type\": \"clickinfo\",\n",
    "                      \"id\": utils.get_id(points),\n",
    "                     \"labels\":labels,\n",
    "                     \"rules\":rules};\n",
    "    "
   ]
  },
  {
   "cell_type": "code",
   "execution_count": 4,
   "metadata": {
    "collapsed": true
   },
   "outputs": [],
   "source": [
    "\n",
    "from mpld3 import *\n",
    "from mpld3 import utils\n",
    "\n",
    "\n",
    "class HelloWorld(plugins.PluginBase):  # inherit from PluginBase\n",
    "    \"\"\"Hello World plugin\"\"\"\n",
    "    \n",
    "    JAVASCRIPT = \"\"\"\n",
    "    mpld3.register_plugin(\"helloworld\", HelloWorld);\n",
    "    HelloWorld.prototype = Object.create(mpld3.Plugin.prototype);\n",
    "    HelloWorld.prototype.constructor = HelloWorld;\n",
    "    \n",
    "    function HelloWorld(fig, props){\n",
    "        mpld3.Plugin.call(this, fig, props);\n",
    "    };\n",
    "    \n",
    "    HelloWorld.prototype.draw = function(){\n",
    "        this.fig.canvas.append(\"text\")\n",
    "            .text(\"hello world\")\n",
    "            .style(\"font-size\", 72)\n",
    "            .style(\"opacity\", 0.3)\n",
    "            .style(\"text-anchor\", \"middle\")\n",
    "            .attr(\"x\", this.fig.width / 2)\n",
    "            .attr(\"y\", this.fig.height / 2)\n",
    "            \n",
    "        var obj = mpld3.get_element(this.props.id);\n",
    "        obj.elements().on(\"mousedown\",\n",
    "                          function(d, i){alert(\"clicked on points[\" + i + \"]\");\n",
    "                          highlight(\"#row_264173\");\n",
    "                          });\n",
    "\n",
    "    }\n",
    "    \"\"\"\n",
    "    def __init__(self, points):\n",
    "        self.dict_ = {\"type\": \"helloworld\",\n",
    "                     \"id\": utils.get_id(points)}\n",
    "        \n",
    "# fig, ax = plt.subplots()\n",
    "# plugins.connect(fig, HelloWorld())"
   ]
  },
  {
   "cell_type": "code",
   "execution_count": 7,
   "metadata": {},
   "outputs": [
    {
     "name": "stdout",
     "output_type": "stream",
     "text": [
      "\n",
      "Note: if you're in the IPython notebook, mpld3.show() is not the best command\n",
      "      to use. Consider using mpld3.display(), or mpld3.enable_notebook().\n",
      "      See more information at http://mpld3.github.io/quickstart.html .\n",
      "\n",
      "You must interrupt the kernel to end this command\n",
      "\n",
      "Serving to http://127.0.0.1:8891/    [Ctrl-C to exit]\n"
     ]
    },
    {
     "name": "stderr",
     "output_type": "stream",
     "text": [
      "127.0.0.1 - - [24/Jul/2017 12:26:12] \"GET / HTTP/1.1\" 200 -\n",
      "127.0.0.1 - - [24/Jul/2017 12:26:12] \"GET /d3.js HTTP/1.1\" 200 -\n",
      "127.0.0.1 - - [24/Jul/2017 12:26:12] \"GET /mpld3.js HTTP/1.1\" 200 -\n"
     ]
    },
    {
     "name": "stdout",
     "output_type": "stream",
     "text": [
      "\n",
      "stopping Server...\n"
     ]
    }
   ],
   "source": [
    "import matplotlib.pyplot as plt\n",
    "import numpy as np\n",
    "import mpld3\n",
    "\n",
    "fig, ax = plt.subplots(subplot_kw=dict(axisbg='#EEEEEE'))\n",
    "N = 100\n",
    "\n",
    "points = ax.scatter(np.random.normal(size=N),\n",
    "                     np.random.normal(size=N),\n",
    "                     c=np.random.random(size=N),\n",
    "                     s=1000 * np.random.random(size=N),\n",
    "                     alpha=0.3,\n",
    "                     cmap=plt.cm.jet)\n",
    "ax.grid(color='white', linestyle='solid')\n",
    "\n",
    "ax.set_title(\"Scatter Plot (with tooltips!)\", size=20)\n",
    "\n",
    "labels = ['point {0}'.format(i + 1) for i in range(N)]\n",
    "tooltip = mpld3.plugins.PointLabelTooltip(points, labels=labels)\n",
    "mpld3.plugins.connect(fig, tooltip)\n",
    "plugins.connect(fig, HelloWorld(points))\n",
    "\n",
    "\n",
    "mpld3.show()"
   ]
  }
 ],
 "metadata": {
  "kernelspec": {
   "display_name": "Django Shell-Plus",
   "language": "python",
   "name": "django_extensions"
  },
  "language_info": {
   "codemirror_mode": {
    "name": "ipython",
    "version": 2
   },
   "file_extension": ".py",
   "mimetype": "text/x-python",
   "name": "python",
   "nbconvert_exporter": "python",
   "pygments_lexer": "ipython2",
   "version": "2.7.12"
  }
 },
 "nbformat": 4,
 "nbformat_minor": 2
}
